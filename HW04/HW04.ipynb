{
 "cells": [
  {
   "cell_type": "markdown",
   "metadata": {},
   "source": [
    "# AM120 HW04\n",
    "## Zachary Miller"
   ]
  },
  {
   "cell_type": "markdown",
   "metadata": {},
   "source": [
    "### 1a"
   ]
  },
  {
   "cell_type": "code",
   "execution_count": 19,
   "metadata": {},
   "outputs": [],
   "source": [
    "import numpy as np\n",
    "\n",
    "F = np.array([[-43,-36,21,-30,73,51,-58,22],[-49,35,-51,-50,49,67,65,-66]])\n",
    "F_prime = F-np.mean(F, 1).reshape(2,-1)\n",
    "C = np.matmul(F_prime,F_prime.T)/F_prime.shape[1]"
   ]
  },
  {
   "cell_type": "code",
   "execution_count": 20,
   "metadata": {},
   "outputs": [
    {
     "name": "stdout",
     "output_type": "stream",
     "text": [
      "[[2033.    381.  ]\n",
      " [ 381.   3024.75]]\n"
     ]
    }
   ],
   "source": [
    "print(C)"
   ]
  },
  {
   "cell_type": "code",
   "execution_count": 31,
   "metadata": {},
   "outputs": [
    {
     "name": "stdout",
     "output_type": "stream",
     "text": [
      "Eigenvalues of C:\n",
      "[1903.53268125 3154.21731875]\n",
      "Eigenvectors of C:\n",
      "[[-0.94682778 -0.32174082]\n",
      " [ 0.32174082 -0.94682778]]\n"
     ]
    }
   ],
   "source": [
    "eigvals, eigvecs = np.linalg.eig(C)\n",
    "print(\"Eigenvalues of C:\")\n",
    "print(eigvals)\n",
    "print(\"Eigenvectors of C:\")\n",
    "print(eigvecs)\n",
    "U = np.array([eigvecs[1], eigvecs[0]])"
   ]
  },
  {
   "cell_type": "code",
   "execution_count": 32,
   "metadata": {},
   "outputs": [
    {
     "name": "stdout",
     "output_type": "stream",
     "text": [
      "[[ 32.55970573 -44.7216419   55.04477401  37.68916422 -22.90748102\n",
      "  -47.02867916 -80.20477338  69.56893151]\n",
      " [ 56.47889484  22.8248712   -3.47460134  44.49187454 -84.8837282\n",
      "  -69.8448519   34.00285762   0.40468323]]\n"
     ]
    }
   ],
   "source": [
    "T = np.matmul(U.T,F)\n",
    "print(T)"
   ]
  },
  {
   "cell_type": "code",
   "execution_count": 27,
   "metadata": {},
   "outputs": [
    {
     "data": {
      "text/plain": [
       "0.6236404169352571"
      ]
     },
     "execution_count": 27,
     "metadata": {},
     "output_type": "execute_result"
    }
   ],
   "source": [
    "eigvals[1]/np.sum(eigvals)"
   ]
  },
  {
   "cell_type": "code",
   "execution_count": 28,
   "metadata": {},
   "outputs": [
    {
     "data": {
      "text/plain": [
       "0.376359583064743"
      ]
     },
     "execution_count": 28,
     "metadata": {},
     "output_type": "execute_result"
    }
   ],
   "source": [
    "eigvals[0]/np.sum(eigvals)"
   ]
  },
  {
   "cell_type": "markdown",
   "metadata": {},
   "source": [
    "### 1b"
   ]
  },
  {
   "cell_type": "code",
   "execution_count": null,
   "metadata": {},
   "outputs": [],
   "source": []
  }
 ],
 "metadata": {
  "kernelspec": {
   "display_name": "Python 3",
   "language": "python",
   "name": "python3"
  },
  "language_info": {
   "codemirror_mode": {
    "name": "ipython",
    "version": 3
   },
   "file_extension": ".py",
   "mimetype": "text/x-python",
   "name": "python",
   "nbconvert_exporter": "python",
   "pygments_lexer": "ipython3",
   "version": "3.7.6"
  }
 },
 "nbformat": 4,
 "nbformat_minor": 4
}
