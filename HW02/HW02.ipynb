{
 "cells": [
  {
   "cell_type": "markdown",
   "metadata": {},
   "source": [
    "# AM120 HW02\n",
    "## Zachary Miller"
   ]
  },
  {
   "cell_type": "code",
   "execution_count": 1,
   "metadata": {},
   "outputs": [],
   "source": [
    "import numpy as np\n",
    "import scipy as scipy\n",
    "from scipy import linalg\n",
    "np.random.seed(123)"
   ]
  },
  {
   "cell_type": "markdown",
   "metadata": {},
   "source": [
    "### 1a"
   ]
  },
  {
   "cell_type": "code",
   "execution_count": 15,
   "metadata": {},
   "outputs": [],
   "source": [
    "# Initialize the matrices\n",
    "A = np.array([[7.1188,0.96091,-8.2268],[0.96091,3.1457,-0.4717],[-8.2268,-0.4717,-7.2645]])\n",
    "A_inv = np.linalg.inv(A)\n",
    "U = scipy.linalg.orth(np.random.rand(3,2));"
   ]
  },
  {
   "cell_type": "code",
   "execution_count": 16,
   "metadata": {},
   "outputs": [],
   "source": [
    "def iterate_bpm(A, U):\n",
    "    U_1=A@U;\n",
    "    U_1, _ = np.linalg.qr(U_1)\n",
    "    \n",
    "    return U_1"
   ]
  },
  {
   "cell_type": "code",
   "execution_count": 17,
   "metadata": {},
   "outputs": [
    {
     "name": "stdout",
     "output_type": "stream",
     "text": [
      "Iteration 1 U:\n",
      "[[-0.04745763 -0.54057698]\n",
      " [ 0.98584733 -0.16070814]\n",
      " [-0.16078811 -0.82580229]]\n",
      "\n",
      "Iteration 2 U:\n",
      "[[-0.06532186 -0.27842031]\n",
      " [ 0.99485723  0.05632287]\n",
      " [ 0.07740889 -0.95880648]]\n",
      "\n",
      "Iteration 3 U:\n",
      "[[-0.11824242 -0.54070422]\n",
      " [ 0.99227838 -0.03270892]\n",
      " [ 0.03744789 -0.84057663]]\n",
      "\n",
      "Iteration 4 U:\n",
      "[[-0.11950328 -0.27602096]\n",
      " [ 0.99128133  0.02052564]\n",
      " [ 0.05550036 -0.96093243]]\n",
      "\n",
      "Iteration 5 U:\n",
      "[[-0.12343239 -0.5418312 ]\n",
      " [ 0.99096234 -0.02296328]\n",
      " [ 0.05251745 -0.84017358]]\n",
      "\n",
      "Iteration 6 U:\n",
      "[[-0.12352506 -0.27570022]\n",
      " [ 0.99087874  0.01787065]\n",
      " [ 0.05385989 -0.96107754]]\n",
      "\n",
      "Iteration 7 U:\n",
      "[[-0.12381723 -0.54192152]\n",
      " [ 0.99085431 -0.02223949]\n",
      " [ 0.05363797 -0.84013479]]\n",
      "\n",
      "Iteration 8 U:\n",
      "[[-0.12382411 -0.27567521]\n",
      " [ 0.99084804  0.0176733 ]\n",
      " [ 0.05373782 -0.96108836]]\n",
      "\n",
      "Iteration 9 U:\n",
      "[[-0.12384585 -0.5419286 ]\n",
      " [ 0.99084622 -0.02218571]\n",
      " [ 0.05372132 -0.84013165]]\n",
      "\n",
      "Iteration 10 U:\n",
      "[[-0.12384636 -0.27567297]\n",
      " [ 0.99084575  0.01765868]\n",
      " [ 0.05372875 -0.96108927]]\n",
      "\n",
      "Final eigenvectors (columns of U):\n",
      "[[-0.12384636 -0.27567297]\n",
      " [ 0.99084575  0.01765868]\n",
      " [ 0.05372875 -0.96108927]]\n",
      "\n",
      "Eigenvalue cooresponding to first eigenvector: 2.99997676232575\n",
      "Eigenvalue cooresponding to second eigenvector: -5.595550629735952\n"
     ]
    }
   ],
   "source": [
    "# Perform ten iterations of the block power method\n",
    "U_list = []\n",
    "for i in range(10):\n",
    "    U = iterate_bpm(A_inv, U)\n",
    "    U_list.append(U)\n",
    "    print(\"Iteration\", i+1, \"U:\")\n",
    "    print(U)\n",
    "    print()\n",
    "\n",
    "eigval_1 = (A_inv@U[:,0]/(U[:,0]))[0]\n",
    "eigval_2 = (A_inv@U[:,1]/(U[:,1]))[0]\n",
    "    \n",
    "print(\"Final eigenvectors (columns of U):\")\n",
    "print(U)\n",
    "print()\n",
    "print(\"Eigenvalue cooresponding to first eigenvector:\", 1/eigval_1)\n",
    "print(\"Eigenvalue cooresponding to second eigenvector:\", 1/eigval_2)"
   ]
  },
  {
   "cell_type": "markdown",
   "metadata": {},
   "source": [
    "__does not converge for the second eigenvalue because it is not unique. Can tell because the second column flips back and forth__"
   ]
  },
  {
   "cell_type": "markdown",
   "metadata": {},
   "source": [
    "### 1b"
   ]
  },
  {
   "cell_type": "code",
   "execution_count": 18,
   "metadata": {},
   "outputs": [],
   "source": [
    "x = np.random.rand(3,1)"
   ]
  },
  {
   "cell_type": "code",
   "execution_count": 19,
   "metadata": {},
   "outputs": [],
   "source": [
    "def iterate_pm(A, x):\n",
    "    x = A@x\n",
    "    x = x/np.linalg.norm(x)\n",
    "    \n",
    "    return x"
   ]
  },
  {
   "cell_type": "code",
   "execution_count": 20,
   "metadata": {},
   "outputs": [
    {
     "name": "stdout",
     "output_type": "stream",
     "text": [
      "Iteration 1 x:\n",
      "[[ 0.37536402]\n",
      " [ 0.51667522]\n",
      " [-0.7695119 ]]\n",
      "\n",
      "Iteration 2 x:\n",
      "[[0.38082175]\n",
      " [0.91121134]\n",
      " [0.15706267]]\n",
      "\n",
      "Iteration 3 x:\n",
      "[[-0.04819975]\n",
      " [ 0.99528485]\n",
      " [-0.08417157]]\n",
      "\n",
      "Iteration 4 x:\n",
      "[[-0.08177998]\n",
      " [ 0.99464509]\n",
      " [ 0.06319157]]\n",
      "\n",
      "Iteration 5 x:\n",
      "[[-0.11825796]\n",
      " [ 0.99203449]\n",
      " [ 0.04338932]]\n",
      "\n",
      "Iteration 6 x:\n",
      "[[-0.12072412]\n",
      " [ 0.99119241]\n",
      " [ 0.05443605]]\n",
      "\n",
      "Iteration 7 x:\n",
      "[[-0.1234329 ]\n",
      " [ 0.99093877]\n",
      " [ 0.05295921]]\n",
      "\n",
      "Iteration 8 x:\n",
      "[[-0.12361582]\n",
      " [ 0.99087172]\n",
      " [ 0.0537807 ]]\n",
      "\n",
      "Iteration 9 x:\n",
      "[[-0.12381726]\n",
      " [ 0.99085253]\n",
      " [ 0.05367083]]\n",
      "\n",
      "Iteration 10 x:\n",
      "[[-0.12383087]\n",
      " [ 0.99084751]\n",
      " [ 0.05373193]]\n",
      "\n",
      "Final eigenvector:\n",
      "[[-0.12383087]\n",
      " [ 0.99084751]\n",
      " [ 0.05373193]]\n",
      "\n",
      "Cooresponding eigenvalue: [2.99965296]\n"
     ]
    }
   ],
   "source": [
    "x_list = []\n",
    "for i in range(10):\n",
    "    x = iterate_pm(A_inv, x)\n",
    "    x_list.append(x)\n",
    "    print(\"Iteration\", i+1, \"x:\")\n",
    "    print(x)\n",
    "    print()\n",
    "\n",
    "eigval_1 = (A_inv@x/x)[0]\n",
    "    \n",
    "print(\"Final eigenvector:\")\n",
    "print(x)\n",
    "print()\n",
    "print(\"Cooresponding eigenvalue:\", 1/eigval_1)\n"
   ]
  },
  {
   "cell_type": "markdown",
   "metadata": {},
   "source": [
    "### 1c"
   ]
  },
  {
   "cell_type": "code",
   "execution_count": 21,
   "metadata": {},
   "outputs": [],
   "source": [
    "D1,V1=np.linalg.eig(A)"
   ]
  },
  {
   "cell_type": "code",
   "execution_count": null,
   "metadata": {},
   "outputs": [],
   "source": [
    "# Show convergence of inverse block power method\n",
    "for U in U_list:\n",
    "    diff = U-V1"
   ]
  },
  {
   "cell_type": "markdown",
   "metadata": {},
   "source": [
    "### 2"
   ]
  },
  {
   "cell_type": "code",
   "execution_count": 49,
   "metadata": {},
   "outputs": [
    {
     "name": "stdout",
     "output_type": "stream",
     "text": [
      "[[0.         0.5        0.         0.         0.         0.5\n",
      "  0.         0.        ]\n",
      " [0.         0.         0.         0.         0.         0.\n",
      "  0.         1.        ]\n",
      " [0.         0.         0.         0.         0.         0.\n",
      "  0.         1.        ]\n",
      " [0.         0.         1.         0.         0.         0.\n",
      "  0.         0.        ]\n",
      " [1.         0.         0.         0.         0.         0.\n",
      "  0.         0.        ]\n",
      " [0.         0.         0.         0.33333333 0.33333333 0.\n",
      "  0.         0.33333333]\n",
      " [0.         0.         0.5        0.5        0.         0.\n",
      "  0.         0.        ]\n",
      " [1.         0.         0.         0.         0.         0.\n",
      "  0.         0.        ]]\n"
     ]
    }
   ],
   "source": [
    "Q = np.matrix([\n",
    "    [0, 0.5, 0, 0, 0, 0.5, 0, 0],\n",
    "    [0, 0, 0, 0, 0, 0, 0, 1],\n",
    "    [0, 0, 0, 0, 0, 0, 0, 1],\n",
    "    [0, 0, 1, 0, 0, 0, 0, 0],\n",
    "    [1, 0, 0, 0, 0, 0, 0, 0],\n",
    "    [0, 0, 0, 1/3, 1/3, 0, 0, 1/3],\n",
    "    [0, 0, 0.5, 0.5, 0, 0, 0, 0],\n",
    "    [1, 0, 0, 0, 0, 0, 0, 0]])\n",
    "print(Q)"
   ]
  },
  {
   "cell_type": "markdown",
   "metadata": {},
   "source": [
    "Since none of the rows are all 0, we will not run into the problem of being stuck at a node, and thus the adjustment $\\hat{Q} = Q + \\frac{1}{n}\\vec{e}\\vec{d}^{T}$ does nothing since $\\vec{e}$ is all zeros. However, we do still have to adjust for the issue of being stuck at a subgraph, which we will do by creating $\\hat{Q} = \\alpha Q + (1-\\alpha)\\frac{1}{n}\\vec{d}\\vec{d}^{T}$."
   ]
  },
  {
   "cell_type": "code",
   "execution_count": 50,
   "metadata": {},
   "outputs": [
    {
     "name": "stdout",
     "output_type": "stream",
     "text": [
      "[[0.01875    0.44375    0.01875    0.01875    0.01875    0.44375\n",
      "  0.01875    0.01875   ]\n",
      " [0.01875    0.01875    0.01875    0.01875    0.01875    0.01875\n",
      "  0.01875    0.86875   ]\n",
      " [0.01875    0.01875    0.01875    0.01875    0.01875    0.01875\n",
      "  0.01875    0.86875   ]\n",
      " [0.01875    0.01875    0.86875    0.01875    0.01875    0.01875\n",
      "  0.01875    0.01875   ]\n",
      " [0.86875    0.01875    0.01875    0.01875    0.01875    0.01875\n",
      "  0.01875    0.01875   ]\n",
      " [0.01875    0.01875    0.01875    0.30208333 0.30208333 0.01875\n",
      "  0.01875    0.30208333]\n",
      " [0.01875    0.01875    0.44375    0.44375    0.01875    0.01875\n",
      "  0.01875    0.01875   ]\n",
      " [0.86875    0.01875    0.01875    0.01875    0.01875    0.01875\n",
      "  0.01875    0.01875   ]]\n"
     ]
    }
   ],
   "source": [
    "alpha = 0.85\n",
    "d = np.ones((8,1))\n",
    "n = 8\n",
    "\n",
    "Q_hat = alpha*Q + (1-alpha)*(1/n)*d*d.T\n",
    "print(Q_hat)"
   ]
  },
  {
   "cell_type": "markdown",
   "metadata": {},
   "source": [
    "Now we want to find the page rank $\\vec{r}$ by solving $\\vec{r} = Q^{T}\\vec{r}$, which means finding the eigenvector cooresponding to the eigenvalue 1. Since $Q^{T}$ is a stochastic matrix, the Perron-Frobenius theorem garuntees that the largest eigenvalue of this matrix will be 1. Therefore, we can use the power method to find the cooresponding eigenvector. Doing that below..."
   ]
  },
  {
   "cell_type": "code",
   "execution_count": 67,
   "metadata": {},
   "outputs": [
    {
     "name": "stdout",
     "output_type": "stream",
     "text": [
      "Ran for 29 total iterations\n",
      "\n",
      "Final page rank:\n",
      "[[0.63637627]\n",
      " [0.3142743 ]\n",
      " [0.19188722]\n",
      " [0.15196544]\n",
      " [0.13323978]\n",
      " [0.3142743 ]\n",
      " [0.04406037]\n",
      " [0.56380868]]\n"
     ]
    }
   ],
   "source": [
    "x = np.random.rand(8,1)\n",
    "x_list = []\n",
    "for i in range(100):\n",
    "    x = iterate_pm(Q_hat.T, x)\n",
    "    x_list.append(x)\n",
    "    \n",
    "    if len(x_list) >= 2:\n",
    "        diff = np.linalg.norm(x_list[i]-x_list[i-1])\n",
    "        \n",
    "        if diff < 0.001:\n",
    "            print(\"Ran for\", i, \"total iterations\")\n",
    "            break;\n",
    "            \n",
    "        elif i == 99:\n",
    "            print(\"Failed to converge\")\n",
    "            \n",
    "        else: continue\n",
    "\n",
    "print(\"\\nFinal page rank:\")\n",
    "print(x)\n",
    "            "
   ]
  },
  {
   "cell_type": "code",
   "execution_count": 71,
   "metadata": {},
   "outputs": [
    {
     "name": "stdout",
     "output_type": "stream",
     "text": [
      "Adjacency Matrix:\n",
      "[[0 0 0 1 1 1 0]\n",
      " [0 0 1 0 0 1 1]\n",
      " [0 1 0 0 0 1 1]\n",
      " [1 0 0 0 1 0 1]\n",
      " [1 0 0 1 0 0 0]\n",
      " [1 1 1 0 0 0 0]\n",
      " [0 1 1 1 0 0 0]]\n",
      "\n",
      "Degree Matrix:\n",
      "[[3 0 0 0 0 0 0]\n",
      " [0 3 0 0 0 0 0]\n",
      " [0 0 3 0 0 0 0]\n",
      " [0 0 0 3 0 0 0]\n",
      " [0 0 0 0 2 0 0]\n",
      " [0 0 0 0 0 3 0]\n",
      " [0 0 0 0 0 0 3]]\n",
      "\n",
      "Laplacian Matrix:\n",
      "[[ 3  0  0 -1 -1 -1  0]\n",
      " [ 0  3 -1  0  0 -1 -1]\n",
      " [ 0 -1  3  0  0 -1 -1]\n",
      " [-1  0  0  3 -1  0 -1]\n",
      " [-1  0  0 -1  2  0  0]\n",
      " [-1 -1 -1  0  0  3  0]\n",
      " [ 0 -1 -1 -1  0  0  3]]\n"
     ]
    }
   ],
   "source": [
    "A = np.matrix([\n",
    "    [0,0,0,1,1,1,0],\n",
    "    [0,0,1,0,0,1,1],\n",
    "    [0,1,0,0,0,1,1],\n",
    "    [1,0,0,0,1,0,1],\n",
    "    [1,0,0,1,0,0,0],\n",
    "    [1,1,1,0,0,0,0],\n",
    "    [0,1,1,1,0,0,0]])\n",
    "D = np.sum(A, axis=1)\n",
    "D = np.diagflat(D)\n",
    "L = D-A\n",
    "print(\"Adjacency Matrix:\")\n",
    "print(A)\n",
    "print(\"\\nDegree Matrix:\")\n",
    "print(D)\n",
    "print(\"\\nLaplacian Matrix:\")\n",
    "print(L)"
   ]
  },
  {
   "cell_type": "code",
   "execution_count": null,
   "metadata": {},
   "outputs": [],
   "source": []
  },
  {
   "cell_type": "code",
   "execution_count": 70,
   "metadata": {},
   "outputs": [
    {
     "data": {
      "text/plain": [
       "(7, 7)"
      ]
     },
     "execution_count": 70,
     "metadata": {},
     "output_type": "execute_result"
    }
   ],
   "source": []
  },
  {
   "cell_type": "code",
   "execution_count": null,
   "metadata": {},
   "outputs": [],
   "source": []
  }
 ],
 "metadata": {
  "kernelspec": {
   "display_name": "Python 3",
   "language": "python",
   "name": "python3"
  },
  "language_info": {
   "codemirror_mode": {
    "name": "ipython",
    "version": 3
   },
   "file_extension": ".py",
   "mimetype": "text/x-python",
   "name": "python",
   "nbconvert_exporter": "python",
   "pygments_lexer": "ipython3",
   "version": "3.7.6"
  }
 },
 "nbformat": 4,
 "nbformat_minor": 4
}
