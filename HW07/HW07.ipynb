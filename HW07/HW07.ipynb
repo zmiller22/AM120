{
 "cells": [
  {
   "cell_type": "markdown",
   "metadata": {},
   "source": [
    "# AM120 HW07\n",
    "## Zachary Miller"
   ]
  },
  {
   "cell_type": "code",
   "execution_count": 55,
   "metadata": {},
   "outputs": [],
   "source": [
    "import numpy as np\n",
    "import matplotlib.pyplot as plt"
   ]
  },
  {
   "cell_type": "markdown",
   "metadata": {},
   "source": [
    "### 1a"
   ]
  },
  {
   "cell_type": "code",
   "execution_count": 39,
   "metadata": {},
   "outputs": [],
   "source": [
    "s1, s2 = 'dig725fof9hn', 'dsgf25gof9h'\n",
    "x, y = np.array([3,-4,2]), np.array([32,-43,21])"
   ]
  },
  {
   "cell_type": "markdown",
   "metadata": {},
   "source": [
    "We are given the above values and told to calculate the Edit, Jaccard, and Hamming distances between s1 and s2. The edit distance between s1 and s2 is given by the minimum number of character insertions and deletions to s1 in order for it to be equivient to s2. This requires the changing the second character from an 'i' to an 's' (changing a character requires two operations, deletion and inserion), then changing the fourth character from a '7' to a 'f', then changing the seventh character from an 'f' to a 'g', and finally deleting the last character. This totals to 7 insertions/deletions, so the edit distance between s1 and s2 is 7. The Jaccard distance between s1 and s2 is given by $d_j(s1,s2) = 1-J(s1,s2) = 1-J( \\frac{|s1\\cap s2|}{|s1\\cup s2|})$, which is calculated below. Finally, the hamming distance between two ordered sets (in this case s1 and s2) is given by the number of differing components between them. Not that here we are only calculating the hamming distance between the the first 11 characters of s1 and s2, since hamming distance requires the ordered sets to be of the same length. The hamming distance is calculated below"
   ]
  },
  {
   "cell_type": "code",
   "execution_count": 41,
   "metadata": {},
   "outputs": [
    {
     "name": "stdout",
     "output_type": "stream",
     "text": [
      "s1_edit equals s2: True\n",
      "Jaccard distance: 0.33333333333333337\n",
      "Hamming distance: 8\n"
     ]
    }
   ],
   "source": [
    "# Use edits to make the strings the same\n",
    "s1_edit = list(s1)\n",
    "s1_edit[1] = 's'; s1_edit[3]='f'; s1_edit[6]='g' # six insertions/deletions\n",
    "s1_edit = s1_edit[:-1] # one deletion\n",
    "s1_edit = ''.join(s1_edit)\n",
    "print(\"s1_edit equals s2:\", s1_edit==s2)\n",
    "\n",
    "# Calculate the Jaccard distance\n",
    "s1_set, s2_set = set(s1), set(s2)\n",
    "jac_dist = 1 - len(s1_set&s2_set)/len(s1_set|s2_set)\n",
    "print('Jaccard distance:', jac_dist)\n",
    "\n",
    "# Calculate the hamming distance\n",
    "s1_ham = s1[:-1]\n",
    "ham_dist = np.sum([s1_ham[i]==s2[i] for i in range(len(s1_ham))])\n",
    "print('Hamming distance:', ham_dist)"
   ]
  },
  {
   "cell_type": "markdown",
   "metadata": {},
   "source": [
    "### 1b"
   ]
  },
  {
   "cell_type": "markdown",
   "metadata": {},
   "source": [
    "Now we are asked to calculate the the Cosine, Euclidean, Manhattan, and $L_\\infty$ distances between x and y. The Cosine distance is given by $d_{cos}(x,y)=cos^{-1}(\\sum_i x_iy_i)/\\sqrt{\\sum_i x_i^2 \\sum_i y_i^2})$. The euclidean distance, also known as the $L_2$ norm, is given by $d_{euclidean}=\\sqrt{\\sum_i(x_i-y_i)^2}$. The Manhattan distance, also known as the L_1-norm, is given by $d_{manhattan}\\sum_i|x_i-y_i|$. Finally, the $L_{\\infty}$-norm is given by the limit of $(\\sum_i|x_i-y_i|^r)^{1/r}$ as r appraoches infinity. As r grows towards infinity, the largest of the $|x_i-y_i|$ terms will dominate this equation, so we define the $L_\\infty$-norm to be the largest of values of these terms. All of these values are calculated below."
   ]
  },
  {
   "cell_type": "code",
   "execution_count": 51,
   "metadata": {},
   "outputs": [
    {
     "name": "stdout",
     "output_type": "stream",
     "text": [
      "Cosine distance: 0.007901415376634939\n",
      "Euclidean distance: 52.182372502598994\n",
      "Manhatten distance: 87\n",
      "L_infinity distance: 39\n"
     ]
    }
   ],
   "source": [
    "# Calculate the Cosine distance\n",
    "numer = np.sum([x[i]*y[i] for i in range(len(x))])\n",
    "denom = np.sqrt(np.sum(np.square(x))*np.sum(np.square(y)))\n",
    "cos_dist = np.arccos(numer/denom)\n",
    "print('Cosine distance:', cos_dist)\n",
    "\n",
    "# Calculate euclidean distance\n",
    "euc_dist = np.sqrt(np.sum(np.square(x-y)))\n",
    "print('Euclidean distance:', euc_dist)\n",
    "\n",
    "# Calculate Manhattan distance\n",
    "man_dist = np.sum(np.abs(x-y))\n",
    "print('Manhatten distance:', man_dist)\n",
    "\n",
    "# Calculate L_inf norm\n",
    "linf_dist = np.max(np.abs(x-y))\n",
    "print('L_infinity distance:', linf_dist)"
   ]
  },
  {
   "cell_type": "markdown",
   "metadata": {},
   "source": [
    "### 1c\n",
    "The definition of a circle is that each point on the circle is equidistant from the center of the circle, and that shared distance is the radius of the cricle. Though we normally use the euclidean distance as the distance metric, you could similarly use any other distance metric. Therefore, we can define a circle with radius $r$ in terms of the $L_n$ norm as the set of points such that the $L_n$ distance between each point and the center is $r$ for all points in the set. __plot circles below__"
   ]
  },
  {
   "cell_type": "markdown",
   "metadata": {},
   "source": [
    "### 3(i)"
   ]
  },
  {
   "cell_type": "code",
   "execution_count": 52,
   "metadata": {},
   "outputs": [],
   "source": [
    "X = np.array([[2,8,1,2,9,4,3,8,2],[9,4,1,8,6,3,9,6,5]])"
   ]
  },
  {
   "cell_type": "markdown",
   "metadata": {},
   "source": [
    "We are asked to perform step-by-step hierarchical clustering of the above set of two-dimensional points. Recall that this is the proccess of iteratively merging the cluster centroids such that you minimize a given metric, which in this case is the new cluster variance. Recall that rather than calculating the cluster variance for each possible new cluster, we can use the equation $\\Delta Var = \\frac{N_A\\times N_B}{N_A+N_B}||\\vec{\\bar{x_A}}-\\vec{\\bar{x_B}}||^2$ to calculate the change in varaince for each possible new cluster and pick the smallest one. Performing this clustering below..."
   ]
  },
  {
   "cell_type": "code",
   "execution_count": 135,
   "metadata": {},
   "outputs": [],
   "source": [
    "def calc_delta_var(centroid_1, n_1, centroid_2, n_2):\n",
    "    delta_var = ((n_1*n_2)/(n_1+n_2))*np.square(np.linalg.norm(centroid_1-centroid_2))\n",
    "    return delta_var\n",
    "\n",
    "def calc_cluster_centroid(old_centroid_1, old_centroid_2):\n",
    "    new_centroid = (old_centroid_1+old_centroid_2)/2\n",
    "    return new_centroid\n",
    "\n",
    "def get_cluster_size(lbl, point_lbls):\n",
    "    cluster_points = cluster_lbls[cluster_lbls==lbl]\n",
    "    return cluster_points.shape[0]\n",
    "\n",
    "def iterate_clustering(clusters, point_lbls):\n",
    "    # Get the current clusters using the \n",
    "    \n",
    "    # Calculate the change in variance for each possible new cluster and save the two \n",
    "    # previous clusters that lead to the lowest change in variance\n",
    "    lowest_delta_var = [np.inf, -1, -1] # [best delta var, best i, best j]\n",
    "    for i, cluster_1 in enumerate(clusters):\n",
    "        for j, cluster_2 in enumerate(clusters):\n",
    "            if i == j: continue\n",
    "            else:\n",
    "                n_1 = get_cluster_size(cluster_1[1], cluster_lbls) \n",
    "                n_2 = get_cluster_size(cluster_2[1], cluster_lbls)\n",
    "                delta_var = calc_delta_var(cluster_1[0], n_1, cluster_2[0], n_2)\n",
    "                if delta_var < lowest_delta_var[0]: \n",
    "                    lowest_delta_var = [delta_var, i, j]\n",
    "    \n",
    "    i, j = lowest_delta_var[1], lowest_delta_var[2]\n",
    "    \n",
    "    # Create new point labels\n",
    "    new_lbl = np.max(cluster_lbls)+1\n",
    "    old_lbls = [clusters[i][1], clusters[j][1]]\n",
    "    point_lbls[point_lbls==old_lbls[0]] = new_lbl\n",
    "    point_lbls[point_lbls==old_lbls[1]] = new_lbl\n",
    "    \n",
    "    # Create the new cluster\n",
    "    new_cluster = (calc_cluster_centroid(clusters[i][0], clusters[j][0]), new_lbl)\n",
    "    \n",
    "    # Update cluster list\n",
    "    for idx in sorted([i, j]):\n",
    "        del clusters[idx]\n",
    "    clusters.append(new_cluster)\n",
    "    \n",
    "    return clusters, point_lbls\n",
    "            \n",
    "\n",
    "init_clusters = [(X[:,i], i) for i in range(X.shape[1])]\n",
    "init_point_lbls = np.array([i for i in range(X.shape[1])])\n",
    "\n",
    "# Just need to iterate through step by step"
   ]
  },
  {
   "cell_type": "code",
   "execution_count": 136,
   "metadata": {},
   "outputs": [
    {
     "data": {
      "text/plain": [
       "([(array([8, 4]), 1),\n",
       "  (array([1, 1]), 2),\n",
       "  (array([2, 8]), 3),\n",
       "  (array([4, 3]), 5),\n",
       "  (array([3, 9]), 6),\n",
       "  (array([8, 6]), 7),\n",
       "  (array([2, 5]), 8),\n",
       "  (array([2. , 8.5]), 9)],\n",
       " array([9, 1, 2, 9, 4, 5, 6, 7, 8]))"
      ]
     },
     "execution_count": 136,
     "metadata": {},
     "output_type": "execute_result"
    }
   ],
   "source": [
    "iterate_clustering(init_clusters, init_point_lbls)"
   ]
  },
  {
   "cell_type": "code",
   "execution_count": 56,
   "metadata": {},
   "outputs": [
    {
     "data": {
      "image/png": "[encoded data removed]",
      "text/plain": [
       "<Figure size 432x288 with 1 Axes>"
      ]
     },
     "metadata": {
      "needs_background": "light"
     },
     "output_type": "display_data"
    }
   ],
   "source": [
    "plt.figure(1)\n",
    "plt.clf()\n",
    "plt.scatter(X[0,:],X[1,:])\n",
    "plt.xlabel('x')\n",
    "plt.ylabel('y')\n",
    "for ii in range(0,np.size(X[0,:])):\n",
    "    plt.text(X[0,ii]+0.07,X[1,ii],str(ii))"
   ]
  },
  {
   "cell_type": "code",
   "execution_count": 114,
   "metadata": {},
   "outputs": [
    {
     "ename": "TypeError",
     "evalue": "list indices must be integers or slices, not list",
     "output_type": "error",
     "traceback": [
      "\u001b[0;31m---------------------------------------------------------------------------\u001b[0m",
      "\u001b[0;31mTypeError\u001b[0m                                 Traceback (most recent call last)",
      "\u001b[0;32m<ipython-input-114-4e7c38bddb17>\u001b[0m in \u001b[0;36m<module>\u001b[0;34m\u001b[0m\n\u001b[1;32m      1\u001b[0m \u001b[0mtest\u001b[0m \u001b[0;34m=\u001b[0m \u001b[0;34m[\u001b[0m\u001b[0;36m1\u001b[0m\u001b[0;34m,\u001b[0m \u001b[0;36m2\u001b[0m\u001b[0;34m,\u001b[0m \u001b[0;36m3\u001b[0m\u001b[0;34m]\u001b[0m\u001b[0;34m\u001b[0m\u001b[0;34m\u001b[0m\u001b[0m\n\u001b[0;32m----> 2\u001b[0;31m \u001b[0mtest\u001b[0m\u001b[0;34m[\u001b[0m\u001b[0;34m[\u001b[0m\u001b[0;36m1\u001b[0m\u001b[0;34m,\u001b[0m\u001b[0;36m2\u001b[0m\u001b[0;34m]\u001b[0m\u001b[0;34m]\u001b[0m\u001b[0;34m\u001b[0m\u001b[0;34m\u001b[0m\u001b[0m\n\u001b[0m",
      "\u001b[0;31mTypeError\u001b[0m: list indices must be integers or slices, not list"
     ]
    }
   ],
   "source": [
    "test = [1, 2, 3]\n",
    "test[[1,2]]"
   ]
  },
  {
   "cell_type": "code",
   "execution_count": null,
   "metadata": {},
   "outputs": [],
   "source": []
  }
 ],
 "metadata": {
  "kernelspec": {
   "display_name": "Python 3",
   "language": "python",
   "name": "python3"
  },
  "language_info": {
   "codemirror_mode": {
    "name": "ipython",
    "version": 3
   },
   "file_extension": ".py",
   "mimetype": "text/x-python",
   "name": "python",
   "nbconvert_exporter": "python",
   "pygments_lexer": "ipython3",
   "version": "3.7.6"
  }
 },
 "nbformat": 4,
 "nbformat_minor": 4
}
