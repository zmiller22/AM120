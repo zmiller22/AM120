{
 "cells": [
  {
   "cell_type": "markdown",
   "metadata": {},
   "source": [
    "# AM120 HW05\n",
    "## Zachary Miller"
   ]
  },
  {
   "cell_type": "markdown",
   "metadata": {},
   "source": [
    "### 2a"
   ]
  },
  {
   "cell_type": "code",
   "execution_count": 1,
   "metadata": {},
   "outputs": [],
   "source": [
    "import numpy as np"
   ]
  },
  {
   "cell_type": "code",
   "execution_count": 4,
   "metadata": {},
   "outputs": [],
   "source": [
    "A=np.array([[-4,-1,-3],[1,-4,5],[3,4,3],[-5,-1,2]]);\n",
    "b = np.array([-1,4,-4,-2]).reshape(4,1)"
   ]
  },
  {
   "cell_type": "markdown",
   "metadata": {},
   "source": [
    "The solution to $A\\vec{x}=\\vec{b}$ with $A$ and $\\vec{b}$ as given above does not exist. Instead, we will look for a solution that minimizes the norm of the error $\\vec{e}=A\\vec{x}-\\vec{b}$, which is given by $\\vec{e}^T\\vec{e}$. To do this, we take the derivative with respect to $\\vec{x}$ of $\\vec{e}^T\\vec{e}$ and set it to zero. After some calculus, this comes out to be \n",
    "\n",
    "$$2(A^TA\\vec{x}-A^T\\vec{b}=0$$ $$A^TA\\vec{x}=A^T\\vec{b}$$ $$\\vec{x}=(A^TA)^{-1}A^T\\vec{b}$$ \n",
    "\n",
    "Calculating below..."
   ]
  },
  {
   "cell_type": "code",
   "execution_count": 7,
   "metadata": {},
   "outputs": [
    {
     "name": "stdout",
     "output_type": "stream",
     "text": [
      "x:\n",
      "[[ 0.58732799]\n",
      " [-1.19370936]\n",
      " [-0.22879177]]\n"
     ]
    }
   ],
   "source": [
    "x = np.linalg.inv(A.T@A)@A.T@b\n",
    "print(\"x:\")\n",
    "print(x)"
   ]
  },
  {
   "cell_type": "markdown",
   "metadata": {},
   "source": [
    "### 2b"
   ]
  },
  {
   "cell_type": "markdown",
   "metadata": {},
   "source": [
    "Next we are asked to calculate the residual $\\vec{r}=A\\vec{x}-\\vec{b}$. Calculating below..."
   ]
  },
  {
   "cell_type": "code",
   "execution_count": 8,
   "metadata": {},
   "outputs": [
    {
     "name": "stdout",
     "output_type": "stream",
     "text": [
      "r:\n",
      "[[ 0.53077272]\n",
      " [ 0.21820656]\n",
      " [ 0.30077121]\n",
      " [-0.20051414]]\n"
     ]
    }
   ],
   "source": [
    "r = A@x-b\n",
    "print(\"r:\")\n",
    "print(r)"
   ]
  },
  {
   "cell_type": "markdown",
   "metadata": {},
   "source": [
    "The residual is non-zero. This makes sense because our system of linear equations we were trying to solve for has more equations than unkowns, and the equations are inconsistent. As a result, there will be no exact solution which is why we found the least squares solution instead."
   ]
  },
  {
   "cell_type": "code",
   "execution_count": null,
   "metadata": {},
   "outputs": [],
   "source": []
  }
 ],
 "metadata": {
  "kernelspec": {
   "display_name": "Python 3",
   "language": "python",
   "name": "python3"
  },
  "language_info": {
   "codemirror_mode": {
    "name": "ipython",
    "version": 3
   },
   "file_extension": ".py",
   "mimetype": "text/x-python",
   "name": "python",
   "nbconvert_exporter": "python",
   "pygments_lexer": "ipython3",
   "version": "3.7.6"
  }
 },
 "nbformat": 4,
 "nbformat_minor": 4
}
