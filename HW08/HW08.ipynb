{
 "cells": [
  {
   "cell_type": "markdown",
   "metadata": {},
   "source": [
    "# AM120 HW08\n",
    "## Zachary Miller"
   ]
  },
  {
   "cell_type": "code",
   "execution_count": 140,
   "metadata": {},
   "outputs": [],
   "source": [
    "import numpy as np\n",
    "import scipy.io\n",
    "import scipy.spatial.distance as distance\n",
    "from sklearn.cluster import KMeans\n",
    "import matplotlib.pyplot as plt"
   ]
  },
  {
   "cell_type": "markdown",
   "metadata": {},
   "source": [
    "### 1a i) and ii)\n",
    "We are asked to create a random 140,000 standard normally distributed 2d vectors, and then to calculate their mean, variance, and covariance. We do this using the following equations\n",
    "$$\\bar{\\vec{x}}= \\frac{\\sum_{i}^{n} x_i}{n}$$\n",
    "$$Var(\\vec{x}) = \\frac{\\sum_{i}^{n} (x_i-\\bar{\\vec{x}})^2}{n}$$\n",
    "$$Cov(X) = XX^T/N$$\n",
    "Doing this below..."
   ]
  },
  {
   "cell_type": "code",
   "execution_count": 26,
   "metadata": {},
   "outputs": [
    {
     "name": "stdout",
     "output_type": "stream",
     "text": [
      "Component Means: [-0.00255699 -0.00362471]\n",
      "Component Variances: [1.00199433 1.0047822 ]\n",
      "Covariance Matrix for 14 Data points:\n",
      "[[ 1.04076445 -0.01401101]\n",
      " [-0.01401101  0.87987283]]\n",
      "Covariance Matrix for 140 Data points:\n",
      "[[ 0.84186369 -0.10970489]\n",
      " [-0.10970489  1.25297686]]\n",
      "Covariance Matrix for 1400 Data points:\n",
      "[[0.98446752 0.03978158]\n",
      " [0.03978158 0.98221125]]\n",
      "Covariance Matrix for 14000 Data points:\n",
      "[[ 1.00984748 -0.00111566]\n",
      " [-0.00111566  1.0014379 ]]\n",
      "Covariance Matrix for 140000 Data points:\n",
      "[[ 1.00200087 -0.00379688]\n",
      " [-0.00379688  1.00479534]]\n"
     ]
    }
   ],
   "source": [
    "np.random.seed(6968761)\n",
    "N=140000\n",
    "X=np.random.normal(size=(2,N))\n",
    "\n",
    "# Function to calculate the row means\n",
    "def calc_mean(arr):\n",
    "    vec_sum = np.sum(arr, axis=1)\n",
    "    return vec_sum/arr.shape[1]\n",
    "\n",
    "# Function to calculate the row variances\n",
    "def calc_variance(arr):\n",
    "    mean_arr = calc_mean(arr)\n",
    "    var_numer = np.sum(np.square(X-mean_arr.reshape(X.shape[0],-1)),\n",
    "                      axis=1)\n",
    "    var_denom = arr.shape[1]\n",
    "    return var_numer/var_denom\n",
    "\n",
    "# Function to calculate the covariance for a subset of the data points\n",
    "def calc_covariance(arr, subset):\n",
    "    arr_subset = arr[:,:subset]\n",
    "    return np.matmul(arr_subset, arr_subset.T)/subset\n",
    "\n",
    "comp_means = calc_mean(X)\n",
    "comp_vars = calc_variance(X)\n",
    "subsets = [14, 140, 1400, 14000, 140000]\n",
    "    \n",
    "print(f'Component Means: {comp_means}')\n",
    "print(f'Component Variances: {comp_vars}')\n",
    "\n",
    "for subset in subsets:\n",
    "    cov_mat = calc_covariance(X, subset)\n",
    "    print(f'Covariance Matrix for {subset} Data points:\\n{cov_mat}')"
   ]
  },
  {
   "cell_type": "markdown",
   "metadata": {},
   "source": [
    "The above component means and variances are very close to 0 and 1. This is to be expected since we drew each coordinate for each point from a standard normal distribution. The progression of the covariance matrices as we include more points also makes sense. Because all of the elements of both components were drawn independently, we would expect the covaraince matrix to be 1 along the diagonal (since each component has varaince 1) and zero everywhere else (since the variables are independent and therefore should have no covariance). For small N, we have more noise in the matrix, but as we increase N that noise gets smaller and we begin to converge towards the expected result. "
   ]
  },
  {
   "cell_type": "markdown",
   "metadata": {},
   "source": [
    "### 1b\n",
    "We are told that the standard deviation for a cluster of uncorrelated 3d points is 2, 1, and 3 for each dimension, respectivly. Since we are told the data points are not coorelated, we know that the only nonzero terms of the covariance matrix will be the variance terms along the diagonal (which are the square of the standard deviations). Therefore, we can write the covariance matrix as \n",
    "$$C= \\begin{bmatrix}4&0&0\\\\ 0&1&0\\\\ 0&0&25\\end{bmatrix}$$\n",
    "Now we are given the points $\\vec{x_1}=[2,0,1]^T \\text{ and } \\vec{x_2}=[3,-1,4]^T$ and asked to calculate the Mahalanobis distance between these two points. We can do this using the equation $d(\\vec{x_1},\\vec{x_2})=\\sqrt{(\\vec{x_1}-\\vec{x_2})^TC^{-1}(\\vec{x_1}-\\vec{x_2})}$. Calculating below..."
   ]
  },
  {
   "cell_type": "code",
   "execution_count": 38,
   "metadata": {},
   "outputs": [
    {
     "name": "stdout",
     "output_type": "stream",
     "text": [
      "Mahalonobis Distance between x_1 and x_2 = 1.746424919657298\n"
     ]
    }
   ],
   "source": [
    "# Define vectors and inverse cooelation matrix\n",
    "x_1 = np.array([2,0,1]).reshape(3,1)\n",
    "x_2 = np.array([3,-1,4]).reshape(3,1)\n",
    "C_inv = np.array([[1/4, 0, 0],[0,1,0],[0,0,1/5]])\n",
    "\n",
    "# Calculat the Mahalonobis distance\n",
    "d_mbs = np.sqrt((x_1-x_2).T@C_inv@(x_1-x_2))[0,0]\n",
    "print(f'Mahalonobis Distance between x_1 and x_2 = {d_mbs}')"
   ]
  },
  {
   "cell_type": "markdown",
   "metadata": {},
   "source": [
    "In cases such as this one where the variance of the data in the cluster is different in different directions, it makes sense to use the Mahalanobis distance to measure points distances from the cluster since it takes into account this variablity change along different axis, which euclidean distance does not."
   ]
  },
  {
   "cell_type": "markdown",
   "metadata": {},
   "source": [
    "### 1c\n",
    "Now we are told to calculate the covariance matrix for the set of 3d vectors given in the specified data file, and then to use that to calculate the Mahalanobis distance between $\\vec{x_1}$ and $\\vec{x_2}$. Doing this below..."
   ]
  },
  {
   "cell_type": "code",
   "execution_count": 67,
   "metadata": {},
   "outputs": [
    {
     "name": "stdout",
     "output_type": "stream",
     "text": [
      "Shape of data: (3, 20000)\n",
      "Covariance Matrix:\n",
      " [[1.91843472 0.41467107 0.73318361]\n",
      " [0.41467107 0.85377    0.43108431]\n",
      " [0.73318361 0.43108431 2.28870323]]\n",
      "Inverse Covariance Matrix:\n",
      " [[ 0.63109418 -0.22592535 -0.1596166 ]\n",
      " [-0.22592535  1.37525349 -0.18665829]\n",
      " [-0.1596166  -0.18665829  0.52321932]]\n",
      "\n",
      "Mahalonobis Distance between x_1 and x_2 = 2.707290596091136\n"
     ]
    }
   ],
   "source": [
    "# Load the data and look at its shape\n",
    "data = scipy.io.loadmat('HW08_Mahalanobis.mat')\n",
    "X=data['X']\n",
    "print(f'Shape of data: {X.shape}')\n",
    "\n",
    "# Subtract the mean from the data then calculate and print the covariance matrix\n",
    "X_norm = X-np.mean(X, axis=1).reshape(3,-1)\n",
    "C = (X_norm@X_norm.T)/X_norm.shape[1]\n",
    "print(f'Covariance Matrix:\\n', C)\n",
    "\n",
    "# Get the inverse of the covariance matrix and print \n",
    "C_inv = np.linalg.inv(C)\n",
    "print(f'Inverse Covariance Matrix:\\n', C_inv)\n",
    "\n",
    "# Calculate and print the Mahalonobis distance\n",
    "d_mbs = np.sqrt((x_1-x_2).T@C_inv@(x_1-x_2))[0,0]\n",
    "print(f'\\nMahalonobis Distance between x_1 and x_2 = {d_mbs}')"
   ]
  },
  {
   "cell_type": "markdown",
   "metadata": {},
   "source": [
    "### 2a"
   ]
  },
  {
   "cell_type": "code",
   "execution_count": 69,
   "metadata": {},
   "outputs": [],
   "source": [
    "X=np.array([[1, 9, 4, 5, 2, 9, 9, 9, 8, 5, 4, 8, 2, 8, 9, 3],\n",
    "            [2, 8, 6, 6, 2, 7, 1, 2, 1, 5, 7, 7, 1, 2, 6, 2]])"
   ]
  },
  {
   "cell_type": "markdown",
   "metadata": {},
   "source": [
    "We are given the above data and told to cluster using a self organizing map with points 8,9,10,11 as the representative points, a neighborhood kernal of 0.8 for the reference points, a neighborhood kernal of 0.1 for the gridspace points, and a constant learning rate of $\\eta=0.1$"
   ]
  },
  {
   "cell_type": "markdown",
   "metadata": {},
   "source": [
    "### 3a"
   ]
  },
  {
   "cell_type": "code",
   "execution_count": 104,
   "metadata": {},
   "outputs": [],
   "source": [
    "X=np.array([[0, 0.5, 0.5, 0, 0, 0, 0.5, 0.5, 10, 9.5, 9.5, 10, 10, 9.5, 9.5, 10],\n",
    "            [10, 10, 9.5, 9.5, 0, 0.5, 0.5, 0,0,0, 0.5, 0.5, 10, 10, 9.5, 9.5]])"
   ]
  },
  {
   "cell_type": "markdown",
   "metadata": {},
   "source": [
    "We are given the above data and asked to cluster it using spectral clustering. We are told to define the similarity matrix $W=\\{w_{i,j}\\}$ such that $w_{i,j}=exp(-d_{i,j}/d)$ with $d_{i,j}$ the $L_2$ distance and d the root mean square of the euclidean distance matrix. Then, we define the Laplacian matrix $L=D-W$ with D the degree matrix and W as defined above. Calculating these values below... "
   ]
  },
  {
   "cell_type": "code",
   "execution_count": 114,
   "metadata": {},
   "outputs": [
    {
     "name": "stdout",
     "output_type": "stream",
     "text": [
      "W:\n",
      " [[1.         0.9487985  0.92836583 0.9487985  0.34952623 0.36838826\n",
      "  0.36787944 0.34906755 0.22614287 0.23459375 0.24359242 0.23459375\n",
      "  0.34952623 0.36838826 0.36787944 0.34906755]\n",
      " [0.9487985  1.         0.9487985  0.92836583 0.34906755 0.36787944\n",
      "  0.36838826 0.34952623 0.23459375 0.24311673 0.25268887 0.24359242\n",
      "  0.36838826 0.38826818 0.38770217 0.36787944]\n",
      " [0.92836583 0.9487985  1.         0.9487985  0.36787944 0.38770217\n",
      "  0.38826818 0.36838826 0.24359242 0.25268887 0.26238839 0.25268887\n",
      "  0.36787944 0.38770217 0.38826818 0.36838826]\n",
      " [0.9487985  0.92836583 0.9487985  1.         0.36838826 0.38826818\n",
      "  0.38770217 0.36787944 0.23459375 0.24359242 0.25268887 0.24311673\n",
      "  0.34906755 0.36787944 0.36838826 0.34952623]\n",
      " [0.34952623 0.34906755 0.36787944 0.36838826 1.         0.9487985\n",
      "  0.92836583 0.9487985  0.34952623 0.36838826 0.36787944 0.34906755\n",
      "  0.22614287 0.23459375 0.24359242 0.23459375]\n",
      " [0.36838826 0.36787944 0.38770217 0.38826818 0.9487985  1.\n",
      "  0.9487985  0.92836583 0.34906755 0.36787944 0.36838826 0.34952623\n",
      "  0.23459375 0.24359242 0.25268887 0.24311673]\n",
      " [0.36787944 0.36838826 0.38826818 0.38770217 0.92836583 0.9487985\n",
      "  1.         0.9487985  0.36787944 0.38770217 0.38826818 0.36838826\n",
      "  0.24359242 0.25268887 0.26238839 0.25268887]\n",
      " [0.34906755 0.34952623 0.36838826 0.36787944 0.9487985  0.92836583\n",
      "  0.9487985  1.         0.36838826 0.38826818 0.38770217 0.36787944\n",
      "  0.23459375 0.24311673 0.25268887 0.24359242]\n",
      " [0.22614287 0.23459375 0.24359242 0.23459375 0.34952623 0.34906755\n",
      "  0.36787944 0.36838826 1.         0.9487985  0.92836583 0.9487985\n",
      "  0.34952623 0.34906755 0.36787944 0.36838826]\n",
      " [0.23459375 0.24311673 0.25268887 0.24359242 0.36838826 0.36787944\n",
      "  0.38770217 0.38826818 0.9487985  1.         0.9487985  0.92836583\n",
      "  0.34906755 0.34952623 0.36838826 0.36787944]\n",
      " [0.24359242 0.25268887 0.26238839 0.25268887 0.36787944 0.36838826\n",
      "  0.38826818 0.38770217 0.92836583 0.9487985  1.         0.9487985\n",
      "  0.36787944 0.36838826 0.38826818 0.38770217]\n",
      " [0.23459375 0.24359242 0.25268887 0.24311673 0.34906755 0.34952623\n",
      "  0.36838826 0.36787944 0.9487985  0.92836583 0.9487985  1.\n",
      "  0.36838826 0.36787944 0.38770217 0.38826818]\n",
      " [0.34952623 0.36838826 0.36787944 0.34906755 0.22614287 0.23459375\n",
      "  0.24359242 0.23459375 0.34952623 0.34906755 0.36787944 0.36838826\n",
      "  1.         0.9487985  0.92836583 0.9487985 ]\n",
      " [0.36838826 0.38826818 0.38770217 0.36787944 0.23459375 0.24359242\n",
      "  0.25268887 0.24311673 0.34906755 0.34952623 0.36838826 0.36787944\n",
      "  0.9487985  1.         0.9487985  0.92836583]\n",
      " [0.36787944 0.38770217 0.38826818 0.36838826 0.24359242 0.25268887\n",
      "  0.26238839 0.25268887 0.36787944 0.36838826 0.38826818 0.38770217\n",
      "  0.92836583 0.9487985  1.         0.9487985 ]\n",
      " [0.34906755 0.36787944 0.36838826 0.34952623 0.23459375 0.24311673\n",
      "  0.25268887 0.24359242 0.36838826 0.36787944 0.38770217 0.38826818\n",
      "  0.9487985  0.92836583 0.9487985  1.        ]]\n",
      "\n",
      "D:\n",
      " [[7.6346086  0.         0.         0.         0.         0.\n",
      "  0.         0.         0.         0.         0.         0.\n",
      "  0.         0.         0.         0.        ]\n",
      " [0.         7.74705414 0.         0.         0.         0.\n",
      "  0.         0.         0.         0.         0.         0.\n",
      "  0.         0.         0.         0.        ]\n",
      " [0.         0.         7.86179748 0.         0.         0.\n",
      "  0.         0.         0.         0.         0.         0.\n",
      "  0.         0.         0.         0.        ]\n",
      " [0.         0.         0.         7.74705414 0.         0.\n",
      "  0.         0.         0.         0.         0.         0.\n",
      "  0.         0.         0.         0.        ]\n",
      " [0.         0.         0.         0.         7.6346086  0.\n",
      "  0.         0.         0.         0.         0.         0.\n",
      "  0.         0.         0.         0.        ]\n",
      " [0.         0.         0.         0.         0.         7.74705414\n",
      "  0.         0.         0.         0.         0.         0.\n",
      "  0.         0.         0.         0.        ]\n",
      " [0.         0.         0.         0.         0.         0.\n",
      "  7.86179748 0.         0.         0.         0.         0.\n",
      "  0.         0.         0.         0.        ]\n",
      " [0.         0.         0.         0.         0.         0.\n",
      "  0.         7.74705414 0.         0.         0.         0.\n",
      "  0.         0.         0.         0.        ]\n",
      " [0.         0.         0.         0.         0.         0.\n",
      "  0.         0.         7.6346086  0.         0.         0.\n",
      "  0.         0.         0.         0.        ]\n",
      " [0.         0.         0.         0.         0.         0.\n",
      "  0.         0.         0.         7.74705414 0.         0.\n",
      "  0.         0.         0.         0.        ]\n",
      " [0.         0.         0.         0.         0.         0.\n",
      "  0.         0.         0.         0.         7.86179748 0.\n",
      "  0.         0.         0.         0.        ]\n",
      " [0.         0.         0.         0.         0.         0.\n",
      "  0.         0.         0.         0.         0.         7.74705414\n",
      "  0.         0.         0.         0.        ]\n",
      " [0.         0.         0.         0.         0.         0.\n",
      "  0.         0.         0.         0.         0.         0.\n",
      "  7.6346086  0.         0.         0.        ]\n",
      " [0.         0.         0.         0.         0.         0.\n",
      "  0.         0.         0.         0.         0.         0.\n",
      "  0.         7.74705414 0.         0.        ]\n",
      " [0.         0.         0.         0.         0.         0.\n",
      "  0.         0.         0.         0.         0.         0.\n",
      "  0.         0.         7.86179748 0.        ]\n",
      " [0.         0.         0.         0.         0.         0.\n",
      "  0.         0.         0.         0.         0.         0.\n",
      "  0.         0.         0.         7.74705414]]\n",
      "\n",
      "L:\n",
      " [[ 6.6346086  -0.9487985  -0.92836583 -0.9487985  -0.34952623 -0.36838826\n",
      "  -0.36787944 -0.34906755 -0.22614287 -0.23459375 -0.24359242 -0.23459375\n",
      "  -0.34952623 -0.36838826 -0.36787944 -0.34906755]\n",
      " [-0.9487985   6.74705414 -0.9487985  -0.92836583 -0.34906755 -0.36787944\n",
      "  -0.36838826 -0.34952623 -0.23459375 -0.24311673 -0.25268887 -0.24359242\n",
      "  -0.36838826 -0.38826818 -0.38770217 -0.36787944]\n",
      " [-0.92836583 -0.9487985   6.86179748 -0.9487985  -0.36787944 -0.38770217\n",
      "  -0.38826818 -0.36838826 -0.24359242 -0.25268887 -0.26238839 -0.25268887\n",
      "  -0.36787944 -0.38770217 -0.38826818 -0.36838826]\n",
      " [-0.9487985  -0.92836583 -0.9487985   6.74705414 -0.36838826 -0.38826818\n",
      "  -0.38770217 -0.36787944 -0.23459375 -0.24359242 -0.25268887 -0.24311673\n",
      "  -0.34906755 -0.36787944 -0.36838826 -0.34952623]\n",
      " [-0.34952623 -0.34906755 -0.36787944 -0.36838826  6.6346086  -0.9487985\n",
      "  -0.92836583 -0.9487985  -0.34952623 -0.36838826 -0.36787944 -0.34906755\n",
      "  -0.22614287 -0.23459375 -0.24359242 -0.23459375]\n",
      " [-0.36838826 -0.36787944 -0.38770217 -0.38826818 -0.9487985   6.74705414\n",
      "  -0.9487985  -0.92836583 -0.34906755 -0.36787944 -0.36838826 -0.34952623\n",
      "  -0.23459375 -0.24359242 -0.25268887 -0.24311673]\n",
      " [-0.36787944 -0.36838826 -0.38826818 -0.38770217 -0.92836583 -0.9487985\n",
      "   6.86179748 -0.9487985  -0.36787944 -0.38770217 -0.38826818 -0.36838826\n",
      "  -0.24359242 -0.25268887 -0.26238839 -0.25268887]\n",
      " [-0.34906755 -0.34952623 -0.36838826 -0.36787944 -0.9487985  -0.92836583\n",
      "  -0.9487985   6.74705414 -0.36838826 -0.38826818 -0.38770217 -0.36787944\n",
      "  -0.23459375 -0.24311673 -0.25268887 -0.24359242]\n",
      " [-0.22614287 -0.23459375 -0.24359242 -0.23459375 -0.34952623 -0.34906755\n",
      "  -0.36787944 -0.36838826  6.6346086  -0.9487985  -0.92836583 -0.9487985\n",
      "  -0.34952623 -0.34906755 -0.36787944 -0.36838826]\n",
      " [-0.23459375 -0.24311673 -0.25268887 -0.24359242 -0.36838826 -0.36787944\n",
      "  -0.38770217 -0.38826818 -0.9487985   6.74705414 -0.9487985  -0.92836583\n",
      "  -0.34906755 -0.34952623 -0.36838826 -0.36787944]\n",
      " [-0.24359242 -0.25268887 -0.26238839 -0.25268887 -0.36787944 -0.36838826\n",
      "  -0.38826818 -0.38770217 -0.92836583 -0.9487985   6.86179748 -0.9487985\n",
      "  -0.36787944 -0.36838826 -0.38826818 -0.38770217]\n",
      " [-0.23459375 -0.24359242 -0.25268887 -0.24311673 -0.34906755 -0.34952623\n",
      "  -0.36838826 -0.36787944 -0.9487985  -0.92836583 -0.9487985   6.74705414\n",
      "  -0.36838826 -0.36787944 -0.38770217 -0.38826818]\n",
      " [-0.34952623 -0.36838826 -0.36787944 -0.34906755 -0.22614287 -0.23459375\n",
      "  -0.24359242 -0.23459375 -0.34952623 -0.34906755 -0.36787944 -0.36838826\n",
      "   6.6346086  -0.9487985  -0.92836583 -0.9487985 ]\n",
      " [-0.36838826 -0.38826818 -0.38770217 -0.36787944 -0.23459375 -0.24359242\n",
      "  -0.25268887 -0.24311673 -0.34906755 -0.34952623 -0.36838826 -0.36787944\n",
      "  -0.9487985   6.74705414 -0.9487985  -0.92836583]\n",
      " [-0.36787944 -0.38770217 -0.38826818 -0.36838826 -0.24359242 -0.25268887\n",
      "  -0.26238839 -0.25268887 -0.36787944 -0.36838826 -0.38826818 -0.38770217\n",
      "  -0.92836583 -0.9487985   6.86179748 -0.9487985 ]\n",
      " [-0.34906755 -0.36787944 -0.36838826 -0.34952623 -0.23459375 -0.24311673\n",
      "  -0.25268887 -0.24359242 -0.36838826 -0.36787944 -0.38770217 -0.38826818\n",
      "  -0.9487985  -0.92836583 -0.9487985   6.74705414]]\n"
     ]
    }
   ],
   "source": [
    "W = distance.squareform(distance.pdist(X.T)); d = np.sqrt(np.mean(np.square(W)))\n",
    "W = np.exp(-W/d)\n",
    "D = np.diag(np.sum(W,axis=1))\n",
    "L = D-W\n",
    "\n",
    "print('W:\\n', W)\n",
    "print('\\nD:\\n',D)\n",
    "print('\\nL:\\n',L)"
   ]
  },
  {
   "cell_type": "markdown",
   "metadata": {},
   "source": [
    "Now we calculate and plot the eigenvalues of L to detirmine the number of clusters. Doing this below..."
   ]
  },
  {
   "cell_type": "code",
   "execution_count": 129,
   "metadata": {},
   "outputs": [
    {
     "data": {
      "image/png": "[encoded data removed]",
      "text/plain": [
       "<Figure size 432x288 with 1 Axes>"
      ]
     },
     "metadata": {
      "needs_background": "light"
     },
     "output_type": "display_data"
    }
   ],
   "source": [
    "# Calculate the eigenvalues and eigenvectors\n",
    "eigvals, eigvecs = np.linalg.eig(L)\n",
    "\n",
    "# Sort the eigenvalues and cooresponding eigenvectors in increasing order\n",
    "inds = eigvals.argsort()\n",
    "eigvecs = eigvecs [:,inds]\n",
    "eigvals = eigvals[inds]\n",
    "\n",
    "plt.plot(eigvals, '-o')\n",
    "plt.title('Eigenvalues of L')\n",
    "plt.ylabel('Value')\n",
    "plt.xlabel('Eigenvalue Number')\n",
    "plt.show()"
   ]
  },
  {
   "cell_type": "markdown",
   "metadata": {},
   "source": [
    "Looking at the above plot, we see three non-zero eigenvalues that are significantly smaller than the rest, so we take four clusters (k+1)."
   ]
  },
  {
   "cell_type": "code",
   "execution_count": 151,
   "metadata": {},
   "outputs": [
    {
     "data": {
      "image/png": "[encoded data removed]",
      "text/plain": [
       "<Figure size 432x288 with 1 Axes>"
      ]
     },
     "metadata": {
      "needs_background": "light"
     },
     "output_type": "display_data"
    }
   ],
   "source": [
    "color ='rgbcmyrgbcmyrgbcmyrgbcmy'\n",
    "for i in range(1,4):\n",
    "        hl=plt.plot(eigvecs[:,i], color[i]+'x-');\n",
    "plt.title('Eigenvectors')\n",
    "plt.xlabel('Eigenvector Element Index')\n",
    "plt.xlabel('Eigenvector Element Value')\n",
    "plt.legend(['2','3','4']);\n",
    "plt.show()"
   ]
  },
  {
   "cell_type": "markdown",
   "metadata": {},
   "source": [
    "Now we cluster a new matrix $F_{4x16}$ made from combining the first 4 eigenvectors into one data matrix. The cluster label assigned to each column of $F$ is then given to the original 2d points. Performing this clustering and plotting below..."
   ]
  },
  {
   "cell_type": "code",
   "execution_count": 153,
   "metadata": {},
   "outputs": [
    {
     "data": {
      "text/plain": [
       "Text(0, 0.5, 'Y')"
      ]
     },
     "execution_count": 153,
     "metadata": {},
     "output_type": "execute_result"
    },
    {
     "data": {
      "image/png": "[encoded data removed]",
      "text/plain": [
       "<Figure size 432x288 with 1 Axes>"
      ]
     },
     "metadata": {
      "needs_background": "light"
     },
     "output_type": "display_data"
    }
   ],
   "source": [
    "k = 4\n",
    "kmeans = KMeans(n_clusters=k,n_init=5,copy_x=True).fit(eigvecs[:,0:k])\n",
    "idx = kmeans.labels_\n",
    "C = kmeans.cluster_centers_\n",
    "\n",
    "for i in range(X.shape[1]):\n",
    "    plt.scatter(X[0,i], X[1,i], c=color[idx[i]])\n",
    "    \n",
    "plt.title('Clustered X data')\n",
    "plt.xlabel('X')\n",
    "plt.ylabel('Y')"
   ]
  },
  {
   "cell_type": "code",
   "execution_count": null,
   "metadata": {},
   "outputs": [],
   "source": []
  }
 ],
 "metadata": {
  "kernelspec": {
   "display_name": "Python 3",
   "language": "python",
   "name": "python3"
  },
  "language_info": {
   "codemirror_mode": {
    "name": "ipython",
    "version": 3
   },
   "file_extension": ".py",
   "mimetype": "text/x-python",
   "name": "python",
   "nbconvert_exporter": "python",
   "pygments_lexer": "ipython3",
   "version": "3.7.6"
  }
 },
 "nbformat": 4,
 "nbformat_minor": 4
}
