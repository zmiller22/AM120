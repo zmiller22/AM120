{
 "cells": [
  {
   "cell_type": "markdown",
   "metadata": {},
   "source": [
    "# AM120 HW08\n",
    "## Zachary Miller"
   ]
  },
  {
   "cell_type": "code",
   "execution_count": 1,
   "metadata": {},
   "outputs": [],
   "source": [
    "import numpy as np"
   ]
  },
  {
   "cell_type": "markdown",
   "metadata": {},
   "source": [
    "### 1a i) and ii)\n",
    "We are asked to create a random 140,000 standard normally distributed 2d vectors, and then to calculate their mean, variance, and covariance. We do this using the following equations\n",
    "$$\\bar{\\vec{x}}= \\frac{\\sum_{i}^{n} x_i}{n}$$\n",
    "$$Var(\\vec{x}) = \\frac{\\sum_{i}^{n} (x_i-\\bar{\\vec{x}})^2}{n}$$\n",
    "$$Cov(X) = XX^T/N$$\n",
    "Doing this below..."
   ]
  },
  {
   "cell_type": "code",
   "execution_count": 26,
   "metadata": {},
   "outputs": [
    {
     "name": "stdout",
     "output_type": "stream",
     "text": [
      "Component Means: [-0.00255699 -0.00362471]\n",
      "Component Variances: [1.00199433 1.0047822 ]\n",
      "Covariance Matrix for 14 Data points:\n",
      "[[ 1.04076445 -0.01401101]\n",
      " [-0.01401101  0.87987283]]\n",
      "Covariance Matrix for 140 Data points:\n",
      "[[ 0.84186369 -0.10970489]\n",
      " [-0.10970489  1.25297686]]\n",
      "Covariance Matrix for 1400 Data points:\n",
      "[[0.98446752 0.03978158]\n",
      " [0.03978158 0.98221125]]\n",
      "Covariance Matrix for 14000 Data points:\n",
      "[[ 1.00984748 -0.00111566]\n",
      " [-0.00111566  1.0014379 ]]\n",
      "Covariance Matrix for 140000 Data points:\n",
      "[[ 1.00200087 -0.00379688]\n",
      " [-0.00379688  1.00479534]]\n"
     ]
    }
   ],
   "source": [
    "np.random.seed(6968761)\n",
    "N=140000\n",
    "X=np.random.normal(size=(2,N))\n",
    "\n",
    "# Function to calculate the row means\n",
    "def calc_mean(arr):\n",
    "    vec_sum = np.sum(arr, axis=1)\n",
    "    return vec_sum/arr.shape[1]\n",
    "\n",
    "# Function to calculate the row variances\n",
    "def calc_variance(arr):\n",
    "    mean_arr = calc_mean(arr)\n",
    "    var_numer = np.sum(np.square(X-mean_arr.reshape(X.shape[0],-1)),\n",
    "                      axis=1)\n",
    "    var_denom = arr.shape[1]\n",
    "    return var_numer/var_denom\n",
    "\n",
    "# Function to calculate the covariance for a subset of the data points\n",
    "def calc_covariance(arr, subset):\n",
    "    arr_subset = arr[:,:subset]\n",
    "    return np.matmul(arr_subset, arr_subset.T)/subset\n",
    "\n",
    "comp_means = calc_mean(X)\n",
    "comp_vars = calc_variance(X)\n",
    "subsets = [14, 140, 1400, 14000, 140000]\n",
    "    \n",
    "print(f'Component Means: {comp_means}')\n",
    "print(f'Component Variances: {comp_vars}')\n",
    "\n",
    "for subset in subsets:\n",
    "    cov_mat = calc_covariance(X, subset)\n",
    "    print(f'Covariance Matrix for {subset} Data points:\\n{cov_mat}')"
   ]
  },
  {
   "cell_type": "markdown",
   "metadata": {},
   "source": [
    "The above component means and variances are very close to 0 and 1. This is to be expected since we drew each coordinate for each point from a standard normal distribution. The progression of the covariance matrices as we include more points also makes sense. Because all of the elements of both components were drawn independently, we would expect the covaraince matrix to be 1 along the diagonal (since each component has varaince 1) and zero everywhere else (since the variables are independent and therefore should have no covariance). For small N, we have more noise in the matrix, but as we increase N that noise gets smaller and we begin to converge towards the expected result. "
   ]
  },
  {
   "cell_type": "code",
   "execution_count": null,
   "metadata": {},
   "outputs": [],
   "source": []
  }
 ],
 "metadata": {
  "kernelspec": {
   "display_name": "Python 3",
   "language": "python",
   "name": "python3"
  },
  "language_info": {
   "codemirror_mode": {
    "name": "ipython",
    "version": 3
   },
   "file_extension": ".py",
   "mimetype": "text/x-python",
   "name": "python",
   "nbconvert_exporter": "python",
   "pygments_lexer": "ipython3",
   "version": "3.7.6"
  }
 },
 "nbformat": 4,
 "nbformat_minor": 4
}
