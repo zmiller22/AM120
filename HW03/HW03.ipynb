{
 "cells": [
  {
   "cell_type": "markdown",
   "metadata": {},
   "source": [
    "For a system of ODEs of the form $\\vec{\\dot{x}}=A\\vec{x}$, we know that the solution must be of the form $\\vec{x}=\\vec{\\hat{x}}e^{\\lambda t}$. Taking the derivative of both sides with respect to time yields\n",
    "$$\\vec{\\dot{x}}=\\lambda\\vec{\\hat{x}}e^{\\lambda t} = A\\vec{\\hat{x}}e^{\\lambda t} \\implies \\lambda \\vec{\\hat{x}} = A\\vec{\\hat{x}}$$\n",
    "Now we have an eigenproblem. It is a property of linear ODEs that if two different funcitons are solutions, than so is any linear combination of those funcitons. Therefore, we can write the solution to this system in the form \n",
    "$$\\vec{x} = \\sum_{i}a_i \\vec{e}_i e^{\\lambda_i t}$$\n",
    "Where $\\vec{e_i}$ is the eigenvector cooresponding to the ith eigenvalue $\\lambda_i$. This form cooresponds to the second form given.\n",
    "\n",
    "For the first form __show using matrix exponentiation__"
   ]
  },
  {
   "cell_type": "code",
   "execution_count": null,
   "metadata": {},
   "outputs": [],
   "source": []
  }
 ],
 "metadata": {
  "kernelspec": {
   "display_name": "Python 3",
   "language": "python",
   "name": "python3"
  },
  "language_info": {
   "codemirror_mode": {
    "name": "ipython",
    "version": 3
   },
   "file_extension": ".py",
   "mimetype": "text/x-python",
   "name": "python",
   "nbconvert_exporter": "python",
   "pygments_lexer": "ipython3",
   "version": "3.7.6"
  }
 },
 "nbformat": 4,
 "nbformat_minor": 4
}
