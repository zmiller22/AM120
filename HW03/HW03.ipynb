{
 "cells": [
  {
   "cell_type": "markdown",
   "metadata": {},
   "source": [
    "### 1\n",
    "#### a\n",
    "For a system of ODEs of the form $\\vec{\\dot{x}}=A\\vec{x}$, we know that the solution must be of the form $\\vec{x}=\\vec{\\hat{x}}e^{\\lambda t}$. Taking the derivative of both sides with respect to time yields\n",
    "$$\\vec{\\dot{x}}=\\lambda\\vec{\\hat{x}}e^{\\lambda t} = A\\vec{\\hat{x}}e^{\\lambda t} \\implies \\lambda \\vec{\\hat{x}} = A\\vec{\\hat{x}}$$\n",
    "Now we have an eigenproblem. It is a property of linear ODEs that if two different funcitons are solutions, than so is any linear combination of those funcitons. Therefore, we can write the solution to this system in the form \n",
    "$$\\vec{x} = \\sum_{i}a_i \\vec{e}_i e^{\\lambda_i t}$$\n",
    "Where $\\vec{e_i}$ is the eigenvector cooresponding to the ith eigenvalue $\\lambda_i$. This form cooresponds to the second form given.\n",
    "\n",
    "To understand the first form, start by differentiating both sides with respect to t to get\n",
    "$$\\vec{\\dot{x}}=Ae^{At}$$... might need to go to office hours for this one..."
   ]
  },
  {
   "cell_type": "markdown",
   "metadata": {},
   "source": [
    "#### b"
   ]
  },
  {
   "cell_type": "code",
   "execution_count": 3,
   "metadata": {},
   "outputs": [
    {
     "name": "stdout",
     "output_type": "stream",
     "text": [
      "The exponential of A*t at t=0.9 is [[ 0.93040554 -0.26303881]\n",
      " [-0.14224987  1.21623472]]\n"
     ]
    }
   ],
   "source": [
    "import numpy as np\n",
    "import scipy.linalg\n",
    "A = np.array([[-0.1005,-0.277],[-0.1498, 0.2005]])\n",
    "A_exp = scipy.linalg.expm(0.9*A)\n",
    "print(\"The exponential of A*t at t=0.9 is\", A_exp)"
   ]
  },
  {
   "cell_type": "markdown",
   "metadata": {},
   "source": [
    "#### d"
   ]
  },
  {
   "cell_type": "code",
   "execution_count": 29,
   "metadata": {},
   "outputs": [
    {
     "name": "stdout",
     "output_type": "stream",
     "text": [
      "a_1 and a_2 are: [5.06566236+0.j 0.80850065+0.j]\n",
      "Solution at t=0 is: [[-4.29196012+0.j]\n",
      " [-2.4287202 +0.j]]\n"
     ]
    }
   ],
   "source": [
    "eigvals, eigvecs = scipy.linalg.eig(A)\n",
    "gensol_t_5 = np.hstack(((eigvecs[0]*np.exp(eigvals[0]*5)).reshape(2,1), \n",
    "                 (eigvecs[1]*np.exp(eigvals[1]*5)).reshape(2,1)))\n",
    "x_5 = np.array([-3,-2])\n",
    "sol = np.linalg.solve(gensol_t_5, x_5)\n",
    "print(\"a_1 and a_2 are:\", sol)\n",
    "print(\"Solution at t=0 is:\", eigvecs@sol.reshape(2,1))"
   ]
  },
  {
   "cell_type": "code",
   "execution_count": 23,
   "metadata": {},
   "outputs": [
    {
     "data": {
      "text/plain": [
       "array([[-0.33931661+0.j, -1.58458332+0.j],\n",
       "       [ 0.20473955+0.j, -3.75651085+0.j]])"
      ]
     },
     "execution_count": 23,
     "metadata": {},
     "output_type": "execute_result"
    }
   ],
   "source": []
  },
  {
   "cell_type": "code",
   "execution_count": null,
   "metadata": {},
   "outputs": [],
   "source": []
  }
 ],
 "metadata": {
  "kernelspec": {
   "display_name": "Python 3",
   "language": "python",
   "name": "python3"
  },
  "language_info": {
   "codemirror_mode": {
    "name": "ipython",
    "version": 3
   },
   "file_extension": ".py",
   "mimetype": "text/x-python",
   "name": "python",
   "nbconvert_exporter": "python",
   "pygments_lexer": "ipython3",
   "version": "3.7.6"
  }
 },
 "nbformat": 4,
 "nbformat_minor": 4
}
